{
 "cells": [
  {
   "cell_type": "markdown",
   "metadata": {},
   "source": [
    "# Attention\n",
    "\n",
    "*In this exercise we are going to work with attention. If you haven't heard, it has become **massively** important, mostly since transformers use it (and is part of what makes them the new black for everything).*\n",
    "\n",
    "After these exercises (and the lecture), you should be able to (in rough order of importance):\n",
    "- Understand what attention is\n",
    "- Understand how attention is computed given inputs \n",
    "- Understand why it is often called 'self-attention'\n",
    "- Understand how neural networks are used to get attention values\n",
    "- Understand why attention is good to use\n",
    "- Understand how attention differs from just embeddings\n",
    "\n",
    "- Understand early (non learnable) vs newer learnable attention\n",
    "\n",
    "**Note**: This notebook contains some code taken or adapted from 02456: Deep Learning, accessed from the [github repo](https://github.com/DeepLearningDTU/02456-deep-learning-with-PyTorch) at 16-11-2024. Some code snippets may differ from previously in the course as there hasn't been time to adapt it entirely for the course code structure.\n",
    "\n",
    "## Quick introduction\n",
    "\n",
    "# Fix indexing here\n",
    "\n",
    "*In its most basic form, attention is a form of similarity measur applied to sequences of usually words. As you may know, the dot product is a rough measure of similarity between vectors. Let $\\mathbf{y}$ be an input sequence of word embeddings, for example a sentence in english, and let $\\mathbf{x}$ be the same sentence but in another language. The similarity between two words in either sequences will then be:*\n",
    "\n",
    "$$e_{ij} = x^{(i)^T} y^{(j)}$$\n",
    "\n",
    "*That is, how much word $\\mathbf{x}^{(i)}$ relates to word $\\mathbf{y}^{(j)}$ The softmax is then usually used to scale these values to be between 0 and 1, which gives the **attention weight** $W_{ij}$ between word $i$ and $j$*:\n",
    "\n",
    "$$W_{ij} = \\text{softmax}\\left(\\mathbf{x}^{(i)^T} \\mathbf{y}^{(j)}\\right)$$\n",
    "\n",
    "*After this, the **attention weights** $W_{ij}$ can then be used on each word of the input sentence, to get the final **attention reprsentations**:*\n",
    "\n",
    "$$\\mathbf{o}{(i)} = \\sum^T_{j = 0} W_{ij} \\mathbf{x}^{(j)}$$\n",
    "\n",
    "*The result $o^{(i)}$, will then be **a vector** representing how much each word in the input sentence relates to **a word** in the output sentence. If we wanted to get an attention value **from each word** to **each word** we would need a matrix, which would be the whole $o$*\n",
    "\n",
    "## Improved (learnable) attention\n",
    "\n",
    "*Introduced primarily in [attention is all you need](https://arxiv.org/abs/1706.03762), self attention improves 'regular' attention by adding learnable parameters to the attention.*\n",
    "\n",
    "*Note that above, the attention values only depended on the similarity between words, meaning words embedded with similar values also got high attention scores. This doesn't make sense for many tasks, particularly in translation, since some words in sentences can relate a lot to others despite being different, consider the sentence:*\n",
    "\n",
    "***Mary saw a dog in the window, she wanted it***\n",
    "\n",
    "*Logically, we can think the words (Mary, saw, wanted, it), (dog, it), (in, window) fit together as they describe the relationship that Mary wanted **it** \"it\" meaning \"the dog\" (not the window). This would not be caught by the above method, since it is uncommon that \"it\" and \"dog\" are very similar words...*\n",
    "\n",
    "*The solution is to use **self-attention**. Here we maintain three new embedding values for each word: $\\mathbf{Q}$ (queries), $\\mathbf{K}$ (keys), and $\\mathbf{V}$ (values). Do not worrry about the names.* \n",
    "\n",
    "*We train these three embeddings much the same way as we would word embeddings in, say Fasttext. However, they are not specifically embeddings. **They work on embeddings**. To get $\\mathbf{Q}, \\mathbf{K}, \\mathbf{V}$ for one input sentence (of words!!) $\\mathbf{s}$, we first get a word embedding of that input sentence, and then multiply that matrix with matrices for each $\\mathbf{Q}, \\mathbf{K}, \\mathbf{V}$:*\n",
    "\n",
    "$$\\mathbf{Q} = \\text{embedding}(\\mathbf{s})W_Q,\\quad \\mathbf{K} = \\text{embedding}(\\mathbf{s})W_K, \\quad \\mathbf{V} = \\text{embedding}(\\mathbf{s})W_V$$\n",
    "\n",
    "*We then calculate the full attention matrix:*\n",
    "\n",
    "$$\\text{Attention}(\\mathbf{Q}, \\mathbf{K}, \\mathbf{V}) = \\text{softmax}\\left( \\frac{\\mathbf{Q} \\mathbf{K}^T}{\\sqrt{d_k}} \\right) \\mathbf{V}$$\n",
    "\n",
    "*The reason we scale by $\\sqrt{d_k}$ (which is either based on the dimension of $W_K$, chosen arbitrarily, or based on the number of 'heads' for multi-head attention), is simply to avoid exploding gradients (don't worry too much about it)...*\n",
    "\n",
    "## Difference between attention **weights** and attended **representations**\n",
    "\n",
    "*It must be specified, that we differentiate between **attention weights** $W$, and the**attended representations** $O$. The attention weights are often the ones examined to find out what a model thinks about a specific sentence, since it is a matrix of dimension $(\\text{sentence 1 length}, \\text{sentence 2 length})$. The attended representations, however, are of dimension $(\\text{sentence 1 length}, \\text{embedding dim})$, making it much harder to make sense of.*\n"
   ]
  },
  {
   "cell_type": "code",
   "execution_count": 7,
   "metadata": {},
   "outputs": [],
   "source": [
    "from tqdm import tqdm\n",
    "import numpy as np\n",
    "import matplotlib.pyplot as plt\n",
    "import torch\n",
    "import torch.nn\n",
    "import torch.nn.functional as F\n",
    "import zipfile\n",
    "\n",
    "from pathlib import Path\n",
    "from typing import List, Tuple\n",
    "\n",
    "# TODO: Remember to add these to the requirements file\n",
    "import tokenizers\n",
    "\n",
    "from huggingface_hub import hf_hub_download"
   ]
  },
  {
   "cell_type": "code",
   "execution_count": 8,
   "metadata": {},
   "outputs": [
    {
     "name": "stderr",
     "output_type": "stream",
     "text": [
      "Parsing glove.6B.50d.txt...: 100%|██████████| 400001/400001 [00:21<00:00, 18185.52it/s]\n"
     ]
    },
    {
     "name": "stdout",
     "output_type": "stream",
     "text": [
      "torch.Size([6, 50])\n"
     ]
    }
   ],
   "source": [
    "# Following is just functions to get glove vectors and such\n",
    "\n",
    "def load_glove_vectors(filename = \"glove.6B.50d.txt\") -> Tuple[List[str], torch.Tensor]:\n",
    "    \"\"\"Download and load GloVe vectors, returns both vocabulary and GloVe vectors\"\"\"\n",
    "    # TODO: Add warning here in case download fails\n",
    "    path = Path(hf_hub_download(repo_id=\"stanfordnlp/glove\", filename=\"glove.6B.zip\"))\n",
    "    target_file = path.parent / filename\n",
    "    if not target_file.exists():\n",
    "        with zipfile.ZipFile(path, 'r') as zip_ref:\n",
    "            zip_ref.extractall(path.parent)\n",
    "\n",
    "        if not target_file.exists():\n",
    "            print(f\"Available files:\")\n",
    "            for p in path.parent.iterdir():\n",
    "                print(p)\n",
    "            raise ValueError(f\"Target file `{target_file.name}` can't be found. Check if `{filename}` was properly downloaded.\")\n",
    "\n",
    "    # parse the vocabulary and the vectors\n",
    "    vocabulary = []\n",
    "    vectors = []\n",
    "    with open(target_file, \"r\", encoding=\"utf8\") as f:\n",
    "        for l in tqdm(f.readlines(), desc=f\"Parsing {target_file.name}...\" ):\n",
    "            word, *vector = l.split()\n",
    "            vocabulary.append(word)\n",
    "            vectors.append(torch.tensor([float(v) for v in vector]))\n",
    "    vectors = torch.stack(vectors)\n",
    "    return vocabulary, vectors\n",
    "\n",
    "# tokenizer for GloVe - simplifies a lot of things\n",
    "# Such as when passing to transformers or when handling unknown tokens\n",
    "glove_vocabulary, glove_vectors = load_glove_vectors()\n",
    "glove_tokenizer = tokenizers.Tokenizer(tokenizers.models.WordLevel(vocab={v:i for i,v in enumerate(glove_vocabulary)}, unk_token=\"<|unknown|>\"))\n",
    "glove_tokenizer.normalizer = tokenizers.normalizers.BertNormalizer(strip_accents=False)\n",
    "glove_tokenizer.pre_tokenizer = tokenizers.pre_tokenizers.Whitespace()\n",
    "\n",
    "embeddings = torch.nn.Embedding(*glove_vectors.shape)\n",
    "embeddings.weight.data = glove_vectors\n",
    "embeddings.weight.requires_grad = False\n",
    "\n",
    "def words_to_glove(sentence: List[str]) -> torch.Tensor:\n",
    "    \"\"\"\n",
    "    Slightly more sophisticated method of getting GloVe vectors\n",
    "\n",
    "    Note: Returns torch tensors!\n",
    "    \"\"\"\n",
    "\n",
    "    # Just handle in case user forgot that input needs to be a list\n",
    "    if type(sentence) == str:\n",
    "        sentence = sentence.split() \n",
    "\n",
    "    encodings = glove_tokenizer.encode_batch(sentence)\n",
    "    vectors = [embeddings(torch.tensor(e.ids)).mean(dim=0) for e in encodings]\n",
    "    return torch.stack(vectors)\n",
    "\n",
    "# Test the function works\n",
    "sentence_example = 'snug as bug in a rug!'\n",
    "print(words_to_glove(sentence_example).shape)\n"
   ]
  },
  {
   "cell_type": "markdown",
   "metadata": {},
   "source": [
    "## 1 - Calculating attention\n",
    "\n",
    "*Here we are going to use a few mockup examples of sentences with GloVe embeddings to generate attention values between sentences*\n",
    "\n",
    "**1. Complete the below function to calculate just the simple attention weights between two word vectors. That is, we want the attention from each word in sentence_1 to each word in sentence_2**\n",
    "\n",
    "**2. In general given one sentence of $N$ words and a second sentence of $M$ words, what dimension should the attention from the first sentence to the second sentence be?**\n",
    "\n",
    "$N\\times M$\n",
    "\n",
    "**3. Complete the function to get the attended representations using the previously calculated attention weights**\n",
    "\n",
    "**4. Reason about what attention vs the attended representations can be used for...**\n",
    "\n",
    "Attention weights is the relevance weights for input elements, while Attented representations create context between the weights such that it can represent actionable information for decision tasks. In regards to output, the attention weights is an intermediate step while attended representations can be used to provide an output."
   ]
  },
  {
   "cell_type": "code",
   "execution_count": null,
   "metadata": {},
   "outputs": [],
   "source": [
    "def simple_attention_weights(vec_1, vec_2):\n",
    "    \"\"\"\n",
    "    Computes simple attention scores between two sentences\n",
    "\n",
    "    Returns an N X M attention map where N, M are the lengths of sentence 1 and 2 respectively\n",
    "    \"\"\"\n",
    "\n",
    "    # Initalize empty attention map\n",
    "    attention_map = np.zeros((len(vec_1), len(vec_2)))\n",
    "\n",
    "    # For each word (vector) in sentence 1\n",
    "    for i in range(len(vec_1)):\n",
    "        # Iterate over all word (vectors) in sentence 2\n",
    "        for j in range(len(vec_2)):\n",
    "            # And compute the attention score by dot product\n",
    "            attention_map[i, j] = vec_1[i].T @ vec_2[j]\n",
    "\n",
    "    # Apply softmax to attention map to get final attention\n",
    "    attention_map = np.exp(attention_map)\n",
    "    attention_map /= np.sum(attention_map, axis=1, keepdims=True)\n",
    "\n",
    "    return attention_map\n",
    "\n",
    "def attended_representation(vec_1, vec_2, attention_weights):\n",
    "        attended_representations = np.zeros_like(vec_1)\n",
    "        for i in range(len(vec_1)):\n",
    "            for j in range(len(vec_2)):\n",
    "                # print(attended_representations[i] + 5)\n",
    "                attended_representations[i] += attention_weights[i, j] * vec_2[j] \n",
    "\n",
    "        return attended_representations\n",
    "    \n"
   ]
  },
  {
   "cell_type": "code",
   "execution_count": 10,
   "metadata": {},
   "outputs": [
    {
     "name": "stdout",
     "output_type": "stream",
     "text": [
      "Dimensionality of attention weights is: (5, 6)\n",
      "Attention weights are: [[4.99783643e-01 1.03114226e-09 4.32009080e-04 4.99783643e-01\n",
      "  2.92794012e-11 7.04310549e-07]\n",
      " [1.08686540e-01 3.98873223e-01 1.09872512e-03 1.08686540e-01\n",
      "  2.00355939e-03 3.80651411e-01]\n",
      " [2.06732125e-02 4.35277557e-09 9.58653486e-01 2.06732125e-02\n",
      "  1.69017516e-10 8.43275840e-08]\n",
      " [4.99783643e-01 1.03114226e-09 4.32009080e-04 4.99783643e-01\n",
      "  2.92794012e-11 7.04310549e-07]\n",
      " [1.53757432e-04 1.66524655e-07 3.84703812e-07 1.53757432e-04\n",
      "  3.84850421e-06 9.99688085e-01]]\n"
     ]
    }
   ],
   "source": [
    "# Two example sentences\n",
    "sentence_1 = 'a cat in a hat'\n",
    "sentence_2 = 'a bug in a rug hat'\n",
    "\n",
    "# Get the word vectors, we un-torch them here, otherwise we'll run into issues with numpy vs torch\n",
    "vec_1 = words_to_glove(sentence_1).detach().numpy()\n",
    "vec_2 = words_to_glove(sentence_2).detach().numpy()\n",
    "\n",
    "# Get the attention weights\n",
    "attention_weights = simple_attention_weights(vec_1, vec_2)\n",
    "\n",
    "print(\"Dimensionality of attention weights is:\", attention_weights.shape)\n",
    "print(\"Attention weights are:\", attention_weights)\n"
   ]
  },
  {
   "cell_type": "code",
   "execution_count": 11,
   "metadata": {},
   "outputs": [
    {
     "name": "stdout",
     "output_type": "stream",
     "text": [
      "Dimensionality of attended_representations is: (5, 50)\n"
     ]
    }
   ],
   "source": [
    "# Get the attended representations, no reason to print anything other than their dimension\n",
    "attended_representations = attended_representation(vec_1, vec_2, attention_weights=attention_weights)\n",
    "\n",
    "print(\"Dimensionality of attended_representations is:\", attended_representations.shape)"
   ]
  },
  {
   "cell_type": "markdown",
   "metadata": {},
   "source": [
    "## 2 - Visualizing attention\n",
    "\n",
    "*Often we want to see how our model attends each word in a sentence related to one another. Ours is quite simple, since it only relies on word embeddings, still there may be cool things to uncover...*\n",
    "\n",
    "**1. Use the below function to plot the previously calculated attention weights, where is attention large? Where is it small, and why?**\n",
    "\n",
    "$\\dots$\n",
    "\n",
    "**2. Is there potentially a scaling issue when using attention in this manner? (HINT: Why does 'a'-'a' have a smaller attention value than 'snug'-'snug'?)**\n",
    "\n",
    "$\\dots$\n",
    "\n",
    "**$\\star$ 3. Reason a bit about how you *could* use this attention mechanism for NLP purposes**\n",
    "\n",
    "$\\dots$"
   ]
  },
  {
   "cell_type": "code",
   "execution_count": 12,
   "metadata": {},
   "outputs": [],
   "source": [
    "def visualize_attention(attention_map, sentence_1: list[str], sentence_2: list[str], head: int=None):\n",
    "    \"\"\"\n",
    "    Visualize the attention map between two sentences.\n",
    "    \n",
    "    Parameters:\n",
    "        attention_map (numpy.ndarray): 2D array with attention weights. Shape: (len(sentence1), len(sentence2))\n",
    "        sentence1 (list of str): The first sentence, tokenized into words.\n",
    "        sentence2 (list of str): The second sentence, tokenized into words.\n",
    "    \"\"\"\n",
    "\n",
    "    if head is not None:\n",
    "        attention_map = attention_map[head]\n",
    "    \n",
    "    # Ensure the attention map dimensions match the sentences\n",
    "    assert attention_map.shape == (len(sentence_1), len(sentence_2)), (\n",
    "        \"Attention map shape must match sentence lengths\"\n",
    "    )\n",
    "    \n",
    "    fig, ax = plt.subplots(figsize=(len(sentence_1), len(sentence_2)))\n",
    "    cax = ax.matshow(attention_map, cmap='viridis', aspect='auto')\n",
    "    \n",
    "    # Add color bar\n",
    "    plt.colorbar(cax, ax=ax, orientation='vertical')\n",
    "    \n",
    "    # Set up ticks and labels\n",
    "    ax.set_xticks(np.arange(len(sentence_2)))\n",
    "    ax.set_yticks(np.arange(len(sentence_1)))\n",
    "    ax.set_xticklabels(sentence_2, rotation=90, fontsize=10)\n",
    "    ax.set_yticklabels(sentence_1, fontsize=10)\n",
    "    \n",
    "    # Add labels for clarity\n",
    "    ax.set_xlabel('Words in Sentence 2', fontsize=12)\n",
    "    ax.set_ylabel('Words in Sentence 1', fontsize=12)\n",
    "    plt.title('Attention Map', fontsize=14)\n",
    "    \n",
    "    if head is not None:\n",
    "        plt.title(f'Attention Map for head {head}', fontsize=14)\n",
    "        \n",
    "    \n",
    "    plt.tight_layout()\n",
    "    plt.show()\n"
   ]
  },
  {
   "cell_type": "code",
   "execution_count": 13,
   "metadata": {},
   "outputs": [
    {
     "name": "stderr",
     "output_type": "stream",
     "text": [
      "C:\\Users\\mathi\\AppData\\Local\\Temp\\ipykernel_19804\\1138431010.py:16: UserWarning: The use of `x.T` on tensors of dimension other than 2 to reverse their shape is deprecated and it will throw an error in a future release. Consider `x.mT` to transpose batches of matrices or `x.permute(*torch.arange(x.ndim - 1, -1, -1))` to reverse the dimensions of a tensor. (Triggered internally at C:\\actions-runner\\_work\\pytorch\\pytorch\\builder\\windows\\pytorch\\aten\\src\\ATen\\native\\TensorShape.cpp:3687.)\n",
      "  attention_map[i, j] = vec_1[i].T @ vec_2[j]\n"
     ]
    },
    {
     "data": {
      "image/png": "[encoded data removed]",
      "text/plain": [
       "<Figure size 700x700 with 2 Axes>"
      ]
     },
     "metadata": {},
     "output_type": "display_data"
    }
   ],
   "source": [
    "# Test attention map function with examples from before\n",
    "sentence_1 = 'snug like a cat in a hat'\n",
    "sentence_2 = 'snug as a bug in a rug'\n",
    "\n",
    "vec_1 = words_to_glove(sentence_1)\n",
    "vec_2 = words_to_glove(sentence_2)\n",
    "\n",
    "attention_map = simple_attention_weights(vec_1, vec_2)\n",
    "visualize_attention(attention_map, sentence_1.split(), sentence_2.split())"
   ]
  },
  {
   "cell_type": "markdown",
   "metadata": {},
   "source": [
    "## $\\star$ 3 - Creating a vocabulary\n",
    "\n",
    "*NLP usually requires a ton of preprocessing, which we really cannot be bothered to do. However, DTU lacks a proper NLP course, so there aren't many places to practice it...*\n",
    "\n",
    "**1. $\\star$ $\\star$ $\\star$ Do the thing we cannot be bothered to do: Perform some of the preprocessing by completing the function to build a vocabulary from a list of sentences**\n",
    "\n",
    "**If you do not want to do it, just copy the build_vocabulary function from the solutions**"
   ]
  },
  {
   "cell_type": "code",
   "execution_count": null,
   "metadata": {},
   "outputs": [
    {
     "name": "stdout",
     "output_type": "stream",
     "text": [
      "Random sentence is a to kind only save factorio\n",
      "a to kind only save factorio ['a', 'to', 'kind', 'only', 'save', 'factorio']\n",
      "Token indices are [1, 63, 33, 43, 52, 0]\n",
      "['a', 'to', 'kind', 'only', 'save', 'OOV']\n"
     ]
    }
   ],
   "source": [
    "# Define embedding matrices\n",
    "# Here, we use torch's embedding class, since it is just a bit closer to what you'd normally use in this case\n",
    "\n",
    "def build_vocabulary(sentences, oov_token='OOV'):\n",
    "    \n",
    "    # Make a set to represent our vocabulary\n",
    "    # A set is like a dict with keys, but no values\n",
    "    # Really more like a list that cannot have duplicates\n",
    "    vocab = set()\n",
    "    \n",
    "    # Iterate through sentences, lower and split the sentences to obtain lists of words used, add these to vocab\n",
    "    ...\n",
    "    \n",
    "    # Update vocab with only special token we use, OOV - out of vocabulary\n",
    "    vocab.update([oov_token])\n",
    "\n",
    "    # Wort vocab just to have it be nicer to look around    \n",
    "    vocab = sorted(vocab)\n",
    "\n",
    "    # Create dictionaries for word_to_index and index_to_word that given a word in the vocab returns the index or vice versa for in\n",
    "    word_to_index = ...\n",
    "    index_to_word = ...\n",
    "\n",
    "    # Define function for getting tokens from a sentence, should return OOV if word is not in vocab\n",
    "    def tokens_to_indices(tokens):\n",
    "        return ...\n",
    "    \n",
    "    return tokens_to_indices, word_to_index, index_to_word, vocab   \n",
    "\n",
    "# Define completely random sentences to have a vocabulary\n",
    "sentences = [\n",
    "    \"He turned himself into a pickle\",\n",
    "    \"Sphinx of Black Quartz, Judge My Vow\",\n",
    "    \"Skibidi dum dum yes yes\",\n",
    "    \"The brain is rotting on the poles\",\n",
    "    \"Release me from this flesh prison mortal fool\",\n",
    "    \"I submit myself willingly to our artificial overlords\",\n",
    "    \"One day the crude biomass that you call a temple will wither and you will beg my kind to save you\",\n",
    "    \"For everything to be consummated for me to feel less alone I had only to wish that there be a large crowd of spectators the day of my execution and that they greet me with cries of hate\"\n",
    "]\n",
    "\n",
    "# Create vocab based on sentences:\n",
    "tokens_to_indices, word_to_index, index_to_word, vocab = build_vocabulary(sentences=sentences)\n",
    "\n",
    "# Create a new sentence by randomly sampling from vocab...\n",
    "new_sentence = \" \".join(np.random.choice(vocab, 5))\n",
    "# Add extra word just to showcase OOV tokens also being used\n",
    "new_sentence += \" factorio\"\n",
    "print(\"Random sentence is\", new_sentence)\n",
    "\n",
    "# Get tokens from the new sentence:\n",
    "tokens = new_sentence.lower().split()\n",
    "print(new_sentence, tokens)\n",
    "token_indices = tokens_to_indices(tokens)\n",
    "\n",
    "print(\"Token indices are\", token_indices)\n",
    "\n",
    "print([index_to_word[i] for i in token_indices])\n",
    "\n"
   ]
  },
  {
   "cell_type": "markdown",
   "metadata": {},
   "source": [
    "## 4 - The actual attention part\n",
    "\n",
    "*The 'groundbreaking' paper [Attention is all you need](https://arxiv.org/abs/1706.03762), orignally proposed using matrices of Queries, Keys and Values, along with multiheaded attention. We will attempt to do the same, albeit without training an actual model*\n",
    "\n",
    "*The reason we don't train a model is because it is really time consuming, and NLP requires tons of preprocessing that we (as mentioned), really cannot be bothered to do right now...*\n",
    "\n",
    "*Here we are going to build a simple attention module using torch, that does not train, and simply uses randomly initialized weights*\n",
    "\n",
    "**1. Complete the attention_module code by implementing the attention_from_tokens function, test that it works by running the code cell two steps below, remember attention should be $(\\text{sentence length}, \\text{sentence length})$ should be $(\\text{sentence length}, \\text{V dim})$**\n",
    "\n",
    "**2. Does the attention make sense? Does it hold any kind of interesting information whatsoever? Why/Why not?**\n",
    "\n",
    "$\\dots$\n",
    "\n",
    "**3. Could we expect better results by using pretrained GloVe as our word embeddings while keeping the Q, K and V matrices the same? Why/Why not?**\n",
    "\n",
    "$\\dots$\n",
    "\n",
    "**4. Complete the code to implement multi headed attention, test its functionality by running the code three cells below. Below are a few suggestions on how you can do this (there is no correct way!):**\n",
    "\n",
    "1. Have a list of query_, key_ and value_embeddings, do the same calculation and for single head in list comprehension or in a for loop\n",
    "2. Have query_, key_ and value_embedding dimensions be scaled by the number of heads, you can then reshape the resulting tensor to get (num_heads, sentence_length, V_dim), then pass this to a linaer layer or aggregation function\n",
    "\n",
    "- NOTE: In either case, you should implement a linear layer to aggregate the results of all heads to a vector $sentence_length, V_dim$ in dimensions\n",
    "\n",
    "Feel free to take inspiration from the solution, but try to understand it\n",
    "\n",
    "\n",
    "**5. What are the advantages of using a linear layer to aggregate the results of all attention heads, compared to just using like the mean or something?**\n",
    "\n",
    "$\\dots$\n"
   ]
  },
  {
   "cell_type": "code",
   "execution_count": null,
   "metadata": {},
   "outputs": [],
   "source": [
    "class AttentionModule:\n",
    "    def __init__(self, word_dim, Q_dim, K_dim, V_dim):\n",
    "        # Create dummy embedding layer for word embeddings:\n",
    "        # A torch embedding layer is just like a linear layer that only takes tensors of integers (technically torch.long values)\n",
    "        self.word_embeddings = ...\n",
    "\n",
    "        # Define weight matrices for Queries, Keys and Values\n",
    "        # Unlike the word embeddings, these need to work on torch tensors, so they are just linear layers, despite being used much like embeddings\n",
    "        self.query_embeddings = ...\n",
    "        self.key_embeddings = ...\n",
    "        self.value_embeddings = ...\n",
    "        \n",
    "        # Keep track of K_dim for scaling factors, otherwise handled by number of heads in multihead attention\n",
    "        self.K_dim = K_dim\n",
    "        \n",
    "    def attention_from_tokens(self, token_indices):\n",
    "        # Transform to tensor to allow or use in word_embeddings:\n",
    "        token_indices_tensor = torch.tensor(token_indices)\n",
    "        embeddings = self.word_embeddings(token_indices_tensor)\n",
    "\n",
    "        attention = ...\n",
    "\n",
    "        representations = ...\n",
    "        \n",
    "        return attention, representations\n",
    "\n",
    "# Just define Multi head attention as subclass of Attention module\n",
    "class MultiHeadAttentionModule(AttentionModule):\n",
    "    def __init__(self, word_dim, Q_dim, K_dim, V_dim, num_heads=1):\n",
    "        super().__init__(word_dim, Q_dim, K_dim, V_dim)\n",
    "\n",
    "        # Difference from Attention Module, actually has a number of heads\n",
    "        self.num_heads = num_heads\n",
    "                \n",
    "        # This time, we define our query, key, and value embeddings extra according to number of heads \n",
    "        # Technically we should have a [num_heads, word_dim, Q_dim] dimensional vector, but torch is limited in only allowing 2-dimensional linear layers...\n",
    "        # ... so we just increase the number of Q_dims and then we can reshape afterwards\n",
    "        self.query_embeddings = ...\n",
    "        self.key_embeddings = ...\n",
    "        self.value_embeddings = ...\n",
    "        \n",
    "        # This time, we actually need all of our Q, K and V dims for reshaping purposes...\n",
    "        self.Q_dim = Q_dim\n",
    "        self.K_dim = K_dim\n",
    "        self.V_dim = V_dim\n",
    "\n",
    "        # Final linear layer to combine all contexts into one context...\n",
    "        self.linear_layer = ...\n",
    "        \n",
    "    def attention_from_tokens(self, token_indices):\n",
    "        # Transform to tensor to allow or use in word_embeddings:\n",
    "        token_indices_tensor = torch.tensor(token_indices)\n",
    "        embeddings = self.word_embeddings(token_indices_tensor)\n",
    "\n",
    "        # Then we can get our multihead attention\n",
    "        queries = ...\n",
    "        keys = ...\n",
    "        values = ...\n",
    "        \n",
    "        # Get our queries dotted with our keys\n",
    "        queries_dot_keys = ...\n",
    "        \n",
    "        # Get the multihead_attention and multihead_representations\n",
    "        heads_attention = ...\n",
    "        heads_representations = ...\n",
    "        \n",
    "        # Finally, pass through linear layer as a kind of aggregation...\n",
    "        final_representations = ...\n",
    "        \n",
    "        return heads_attention, final_representations\n",
    "\n"
   ]
  },
  {
   "cell_type": "code",
   "execution_count": null,
   "metadata": {},
   "outputs": [
    {
     "name": "stdout",
     "output_type": "stream",
     "text": [
      "a to kind only save factorio\n",
      "None\n",
      "Attention dimensionality is: torch.Size([6, 6])\n",
      "After context layer (dotting with values, dimension is): torch.Size([6, 50])\n"
     ]
    },
    {
     "data": {
      "image/png": "[encoded data removed]",
      "text/plain": [
       "<Figure size 600x600 with 2 Axes>"
      ]
     },
     "metadata": {},
     "output_type": "display_data"
    }
   ],
   "source": [
    "# Define dimensions of word embeddings, as well as Q, K and V matrices\n",
    "word_dim = 50\n",
    "Q_dim = 50\n",
    "K_dim = 50\n",
    "V_dim = 50\n",
    "\n",
    "# Instantiate AttentionModule\n",
    "attention_model = AttentionModule(word_dim, Q_dim, K_dim, V_dim)\n",
    "\n",
    "# Print sentence we are getting attention for\n",
    "print(print(new_sentence))\n",
    "\n",
    "# Calculate the attention and context layer values\n",
    "attention, representations = attention_model.attention_from_tokens(token_indices)\n",
    "\n",
    "# Print and visualize\n",
    "print(\"Attention dimensionality is:\", attention.shape)\n",
    "print(\"After context layer (dotting with values, dimension is):\", representations.shape)\n",
    "\n",
    "visualize_attention(attention.detach().numpy(), new_sentence.split(), new_sentence.split())"
   ]
  },
  {
   "cell_type": "code",
   "execution_count": 11,
   "metadata": {},
   "outputs": [
    {
     "name": "stdout",
     "output_type": "stream",
     "text": [
      "Attention dimensionality is: torch.Size([3, 6, 6])\n",
      "After context layer (dotting with values, dimension is): torch.Size([6, 50])\n"
     ]
    },
    {
     "data": {
      "image/png": "[encoded data removed]",
      "text/plain": [
       "<Figure size 600x600 with 2 Axes>"
      ]
     },
     "metadata": {},
     "output_type": "display_data"
    }
   ],
   "source": [
    "num_heads = 3\n",
    "\n",
    "# Instantiate MultiHeadAttentionModule\n",
    "multihead_attention_model = MultiHeadAttentionModule(word_dim, Q_dim, K_dim, V_dim, num_heads=num_heads)\n",
    "\n",
    "\n",
    "# Calculate the attention and context layer values\n",
    "multihead_attention, multihead_representations = multihead_attention_model.attention_from_tokens(token_indices)\n",
    "\n",
    "# Print and visualize\n",
    "print(\"Attention dimensionality is:\", multihead_attention.shape)\n",
    "print(\"After context layer (dotting with values, dimension is):\", multihead_representations.shape)\n",
    "visualize_attention(multihead_attention.detach().numpy(), new_sentence.split(), new_sentence.split(), head=0)"
   ]
  },
  {
   "cell_type": "markdown",
   "metadata": {},
   "source": [
    "## $\\star$ 5 - More in-depth view of attention\n",
    "\n",
    "*While trying to make som really cool representaion of attention, I almost forgot the creed of the KID student... But then I remembered, and found [this cool visualization notebook](https://colab.research.google.com/drive/1hXIQ77A4TYS4y3UthWF-Ci7V7vVUoxmQ?usp=sharing) located in [this repository: bertviz](https://github.com/jessevig/bertviz). It uses a pretrained Bert transformer **with** positional encodings (next week stuff). It also has multiple attention layers, so doesn't just produce one attention map.*\n",
    "\n",
    "**1. Look around the provided notebook and see if you get smarter on attention mechanisms, remember Bert has multiple heads across multiple layers that each produce attention!**\n",
    "\n",
    "- NOTE: You do not need to run anything, the visuzliations are already there, preloaded\n",
    "\n",
    "**$\\star$ $\\star$ $\\star$ $\\star$ $\\star$ $\\star$ $\\star$ 2. Say something nice to the person next to you. How did they respond?**\n",
    "\n",
    "$\\dots$"
   ]
  },
  {
   "cell_type": "code",
   "execution_count": null,
   "metadata": {},
   "outputs": [],
   "source": []
  }
 ],
 "metadata": {
  "kernelspec": {
   "display_name": "02462",
   "language": "python",
   "name": "python3"
  },
  "language_info": {
   "codemirror_mode": {
    "name": "ipython",
    "version": 3
   },
   "file_extension": ".py",
   "mimetype": "text/x-python",
   "name": "python",
   "nbconvert_exporter": "python",
   "pygments_lexer": "ipython3",
   "version": "3.11.10"
  }
 },
 "nbformat": 4,
 "nbformat_minor": 2
}
